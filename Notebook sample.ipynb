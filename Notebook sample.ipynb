{
    "cells": [
        {
            "metadata": {},
            "cell_type": "markdown",
            "source": "# Description\nThis is a sample notebook"
        },
        {
            "metadata": {},
            "cell_type": "code",
            "source": "\nimport os, types\nimport pandas as pd\nfrom botocore.client import Config\nimport ibm_boto3\n\ndef __iter__(self): return 0\n\n# @hidden_cell\n# The following code accesses a file in your IBM Cloud Object Storage. It includes your credentials.\n# You might want to remove those credentials before you share the notebook.\nclient_32a7d83812f94ccbb180b98a1e2554fa = ibm_boto3.client(service_name='s3',\n    ibm_api_key_id='zPgGAUM2sGqL2g597jg4U12pSYKE28iOJizLX646rTvh',\n    ibm_auth_endpoint=\"https://iam.cloud.ibm.com/oidc/token\",\n    config=Config(signature_version='oauth'),\n    endpoint_url='https://s3.private.eu.cloud-object-storage.appdomain.cloud')\n\nbody = client_32a7d83812f94ccbb180b98a1e2554fa.get_object(Bucket='firstsampleproject-donotdelete-pr-jg4pbucevlfwit',Key='intesactiv.csv')['Body']\n# add missing __iter__ method, so pandas accepts body as file-like object\nif not hasattr(body, \"__iter__\"): body.__iter__ = types.MethodType( __iter__, body )\n\ndf_data_1 = pd.read_csv(body)\ndf_data_1.head()\n",
            "execution_count": 1,
            "outputs": [
                {
                    "output_type": "execute_result",
                    "execution_count": 1,
                    "data": {
                        "text/plain": "   Unnamed: 0          Id        Date  steps  distance  bedtime  Calories  \\\n0           1  1503960366  2020-04-12  13162      8.50    346.0      1985   \n1           2  1503960366  2020-04-13  10735      6.97    407.0      1797   \n2           3  1503960366  2020-04-14  10460      6.74      NaN      1776   \n3           4  1503960366  2020-04-15   9762      6.28    442.0      1745   \n4           5  1503960366  2020-04-16  12669      8.16    367.0      1863   \n\n   total_steps  \n0        13162  \n1        10735  \n2        10460  \n3         9762  \n4        12669  ",
                        "text/html": "<div>\n<style scoped>\n    .dataframe tbody tr th:only-of-type {\n        vertical-align: middle;\n    }\n\n    .dataframe tbody tr th {\n        vertical-align: top;\n    }\n\n    .dataframe thead th {\n        text-align: right;\n    }\n</style>\n<table border=\"1\" class=\"dataframe\">\n  <thead>\n    <tr style=\"text-align: right;\">\n      <th></th>\n      <th>Unnamed: 0</th>\n      <th>Id</th>\n      <th>Date</th>\n      <th>steps</th>\n      <th>distance</th>\n      <th>bedtime</th>\n      <th>Calories</th>\n      <th>total_steps</th>\n    </tr>\n  </thead>\n  <tbody>\n    <tr>\n      <th>0</th>\n      <td>1</td>\n      <td>1503960366</td>\n      <td>2020-04-12</td>\n      <td>13162</td>\n      <td>8.50</td>\n      <td>346.0</td>\n      <td>1985</td>\n      <td>13162</td>\n    </tr>\n    <tr>\n      <th>1</th>\n      <td>2</td>\n      <td>1503960366</td>\n      <td>2020-04-13</td>\n      <td>10735</td>\n      <td>6.97</td>\n      <td>407.0</td>\n      <td>1797</td>\n      <td>10735</td>\n    </tr>\n    <tr>\n      <th>2</th>\n      <td>3</td>\n      <td>1503960366</td>\n      <td>2020-04-14</td>\n      <td>10460</td>\n      <td>6.74</td>\n      <td>NaN</td>\n      <td>1776</td>\n      <td>10460</td>\n    </tr>\n    <tr>\n      <th>3</th>\n      <td>4</td>\n      <td>1503960366</td>\n      <td>2020-04-15</td>\n      <td>9762</td>\n      <td>6.28</td>\n      <td>442.0</td>\n      <td>1745</td>\n      <td>9762</td>\n    </tr>\n    <tr>\n      <th>4</th>\n      <td>5</td>\n      <td>1503960366</td>\n      <td>2020-04-16</td>\n      <td>12669</td>\n      <td>8.16</td>\n      <td>367.0</td>\n      <td>1863</td>\n      <td>12669</td>\n    </tr>\n  </tbody>\n</table>\n</div>"
                    },
                    "metadata": {}
                }
            ]
        },
        {
            "metadata": {},
            "cell_type": "code",
            "source": "",
            "execution_count": null,
            "outputs": []
        }
    ],
    "metadata": {
        "kernelspec": {
            "name": "python3",
            "display_name": "Python 3.9",
            "language": "python"
        },
        "language_info": {
            "name": "python",
            "version": "3.9.12",
            "mimetype": "text/x-python",
            "codemirror_mode": {
                "name": "ipython",
                "version": 3
            },
            "pygments_lexer": "ipython3",
            "nbconvert_exporter": "python",
            "file_extension": ".py"
        }
    },
    "nbformat": 4,
    "nbformat_minor": 1
}