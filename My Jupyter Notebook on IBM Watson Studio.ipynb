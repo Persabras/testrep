{
 "cells": [
  {
   "cell_type": "markdown",
   "metadata": {},
   "source": [
    "<center>\n",
    "    <img src=\"https://s3-api.us-geo.objectstorage.softlayer.net/cf-courses-data/CognitiveClass/Logos/organization_logo/organization_logo.png\" width=\"300\" alt=\"cognitiveclass.ai logo\"  />\n",
    "</center>\n"
   ]
  },
  {
   "cell_type": "markdown",
   "metadata": {},
   "source": [
    "# My Jupyter Notebook on IBM Watson Studio"
   ]
  },
  {
   "cell_type": "markdown",
   "metadata": {},
   "source": [
    "**Yousef Moterassed**"
   ]
  },
  {
   "cell_type": "markdown",
   "metadata": {},
   "source": [
    "Commercial Dep. of Nova Lammy Corporation"
   ]
  },
  {
   "cell_type": "markdown",
   "metadata": {},
   "source": [
    "*I fell in love with Data Science when I was reading an article on the web and realized that it is exactly what I always was doing in my life since I was a kid until now. I mean I saw with playing with data and information about anything I was searching to pull some conclusions that never was imagined by the stakeholder in any field I was working or even myself in my day to day events.*"
   ]
  },
  {
   "cell_type": "markdown",
   "metadata": {},
   "source": [
    "### Since I'm not familiar with Python yet, so I will show some cool feature we could execute in R"
   ]
  },
  {
   "cell_type": "markdown",
   "metadata": {},
   "source": [
    "This data-frame contain the US murder rate published in 2012"
   ]
  },
  {
   "cell_type": "code",
   "execution_count": 49,
   "metadata": {},
   "outputs": [
    {
     "name": "stderr",
     "output_type": "stream",
     "text": [
      "Updating HTML index of packages in '.Library'\n",
      "Making 'packages.html' ... done\n"
     ]
    },
    {
     "data": {
      "text/html": [
       "<table>\n",
       "<caption>A data.frame: 6 × 5</caption>\n",
       "<thead>\n",
       "\t<tr><th></th><th scope=col>state</th><th scope=col>abb</th><th scope=col>region</th><th scope=col>population</th><th scope=col>total</th></tr>\n",
       "\t<tr><th></th><th scope=col>&lt;chr&gt;</th><th scope=col>&lt;chr&gt;</th><th scope=col>&lt;fct&gt;</th><th scope=col>&lt;dbl&gt;</th><th scope=col>&lt;dbl&gt;</th></tr>\n",
       "</thead>\n",
       "<tbody>\n",
       "\t<tr><th scope=row>1</th><td>Alabama   </td><td>AL</td><td>South</td><td> 4779736</td><td> 135</td></tr>\n",
       "\t<tr><th scope=row>2</th><td>Alaska    </td><td>AK</td><td>West </td><td>  710231</td><td>  19</td></tr>\n",
       "\t<tr><th scope=row>3</th><td>Arizona   </td><td>AZ</td><td>West </td><td> 6392017</td><td> 232</td></tr>\n",
       "\t<tr><th scope=row>4</th><td>Arkansas  </td><td>AR</td><td>South</td><td> 2915918</td><td>  93</td></tr>\n",
       "\t<tr><th scope=row>5</th><td>California</td><td>CA</td><td>West </td><td>37253956</td><td>1257</td></tr>\n",
       "\t<tr><th scope=row>6</th><td>Colorado  </td><td>CO</td><td>West </td><td> 5029196</td><td>  65</td></tr>\n",
       "</tbody>\n",
       "</table>\n"
      ],
      "text/latex": [
       "A data.frame: 6 × 5\n",
       "\\begin{tabular}{r|lllll}\n",
       "  & state & abb & region & population & total\\\\\n",
       "  & <chr> & <chr> & <fct> & <dbl> & <dbl>\\\\\n",
       "\\hline\n",
       "\t1 & Alabama    & AL & South &  4779736 &  135\\\\\n",
       "\t2 & Alaska     & AK & West  &   710231 &   19\\\\\n",
       "\t3 & Arizona    & AZ & West  &  6392017 &  232\\\\\n",
       "\t4 & Arkansas   & AR & South &  2915918 &   93\\\\\n",
       "\t5 & California & CA & West  & 37253956 & 1257\\\\\n",
       "\t6 & Colorado   & CO & West  &  5029196 &   65\\\\\n",
       "\\end{tabular}\n"
      ],
      "text/markdown": [
       "\n",
       "A data.frame: 6 × 5\n",
       "\n",
       "| <!--/--> | state &lt;chr&gt; | abb &lt;chr&gt; | region &lt;fct&gt; | population &lt;dbl&gt; | total &lt;dbl&gt; |\n",
       "|---|---|---|---|---|---|\n",
       "| 1 | Alabama    | AL | South |  4779736 |  135 |\n",
       "| 2 | Alaska     | AK | West  |   710231 |   19 |\n",
       "| 3 | Arizona    | AZ | West  |  6392017 |  232 |\n",
       "| 4 | Arkansas   | AR | South |  2915918 |   93 |\n",
       "| 5 | California | CA | West  | 37253956 | 1257 |\n",
       "| 6 | Colorado   | CO | West  |  5029196 |   65 |\n",
       "\n"
      ],
      "text/plain": [
       "  state      abb region population total\n",
       "1 Alabama    AL  South   4779736    135 \n",
       "2 Alaska     AK  West     710231     19 \n",
       "3 Arizona    AZ  West    6392017    232 \n",
       "4 Arkansas   AR  South   2915918     93 \n",
       "5 California CA  West   37253956   1257 \n",
       "6 Colorado   CO  West    5029196     65 "
      ]
     },
     "metadata": {},
     "output_type": "display_data"
    },
    {
     "data": {
      "text/html": [
       "<table>\n",
       "<caption>A data.frame: 51 × 6</caption>\n",
       "<thead>\n",
       "\t<tr><th scope=col>state</th><th scope=col>abb</th><th scope=col>region</th><th scope=col>population</th><th scope=col>total</th><th scope=col>rate</th></tr>\n",
       "\t<tr><th scope=col>&lt;chr&gt;</th><th scope=col>&lt;chr&gt;</th><th scope=col>&lt;fct&gt;</th><th scope=col>&lt;dbl&gt;</th><th scope=col>&lt;dbl&gt;</th><th scope=col>&lt;dbl&gt;</th></tr>\n",
       "</thead>\n",
       "<tbody>\n",
       "\t<tr><td>Alabama             </td><td>AL</td><td>South        </td><td> 4779736</td><td> 135</td><td> 28.244238</td></tr>\n",
       "\t<tr><td>Alaska              </td><td>AK</td><td>West         </td><td>  710231</td><td>  19</td><td> 26.751860</td></tr>\n",
       "\t<tr><td>Arizona             </td><td>AZ</td><td>West         </td><td> 6392017</td><td> 232</td><td> 36.295273</td></tr>\n",
       "\t<tr><td>Arkansas            </td><td>AR</td><td>South        </td><td> 2915918</td><td>  93</td><td> 31.893901</td></tr>\n",
       "\t<tr><td>California          </td><td>CA</td><td>West         </td><td>37253956</td><td>1257</td><td> 33.741383</td></tr>\n",
       "\t<tr><td>Colorado            </td><td>CO</td><td>West         </td><td> 5029196</td><td>  65</td><td> 12.924531</td></tr>\n",
       "\t<tr><td>Connecticut         </td><td>CT</td><td>Northeast    </td><td> 3574097</td><td>  97</td><td> 27.139722</td></tr>\n",
       "\t<tr><td>Delaware            </td><td>DE</td><td>South        </td><td>  897934</td><td>  38</td><td> 42.319369</td></tr>\n",
       "\t<tr><td>District of Columbia</td><td>DC</td><td>South        </td><td>  601723</td><td>  99</td><td>164.527532</td></tr>\n",
       "\t<tr><td>Florida             </td><td>FL</td><td>South        </td><td>19687653</td><td> 669</td><td> 33.980688</td></tr>\n",
       "\t<tr><td>Georgia             </td><td>GA</td><td>South        </td><td> 9920000</td><td> 376</td><td> 37.903226</td></tr>\n",
       "\t<tr><td>Hawaii              </td><td>HI</td><td>West         </td><td> 1360301</td><td>   7</td><td>  5.145920</td></tr>\n",
       "\t<tr><td>Idaho               </td><td>ID</td><td>West         </td><td> 1567582</td><td>  12</td><td>  7.655102</td></tr>\n",
       "\t<tr><td>Illinois            </td><td>IL</td><td>North Central</td><td>12830632</td><td> 364</td><td> 28.369608</td></tr>\n",
       "\t<tr><td>Indiana             </td><td>IN</td><td>North Central</td><td> 6483802</td><td> 142</td><td> 21.900730</td></tr>\n",
       "\t<tr><td>Iowa                </td><td>IA</td><td>North Central</td><td> 3046355</td><td>  21</td><td>  6.893484</td></tr>\n",
       "\t<tr><td>Kansas              </td><td>KS</td><td>North Central</td><td> 2853118</td><td>  63</td><td> 22.081106</td></tr>\n",
       "\t<tr><td>Kentucky            </td><td>KY</td><td>South        </td><td> 4339367</td><td> 116</td><td> 26.732010</td></tr>\n",
       "\t<tr><td>Louisiana           </td><td>LA</td><td>South        </td><td> 4533372</td><td> 351</td><td> 77.425810</td></tr>\n",
       "\t<tr><td>Maine               </td><td>ME</td><td>Northeast    </td><td> 1328361</td><td>  11</td><td>  8.280881</td></tr>\n",
       "\t<tr><td>Maryland            </td><td>MD</td><td>South        </td><td> 5773552</td><td> 293</td><td> 50.748655</td></tr>\n",
       "\t<tr><td>Massachusetts       </td><td>MA</td><td>Northeast    </td><td> 6547629</td><td> 118</td><td> 18.021791</td></tr>\n",
       "\t<tr><td>Michigan            </td><td>MI</td><td>North Central</td><td> 9883640</td><td> 413</td><td> 41.786225</td></tr>\n",
       "\t<tr><td>Minnesota           </td><td>MN</td><td>North Central</td><td> 5303925</td><td>  53</td><td>  9.992600</td></tr>\n",
       "\t<tr><td>Mississippi         </td><td>MS</td><td>South        </td><td> 2967297</td><td> 120</td><td> 40.440846</td></tr>\n",
       "\t<tr><td>Missouri            </td><td>MO</td><td>North Central</td><td> 5988927</td><td> 321</td><td> 53.598917</td></tr>\n",
       "\t<tr><td>Montana             </td><td>MT</td><td>West         </td><td>  989415</td><td>  12</td><td> 12.128379</td></tr>\n",
       "\t<tr><td>Nebraska            </td><td>NE</td><td>North Central</td><td> 1826341</td><td>  32</td><td> 17.521372</td></tr>\n",
       "\t<tr><td>Nevada              </td><td>NV</td><td>West         </td><td> 2700551</td><td>  84</td><td> 31.104763</td></tr>\n",
       "\t<tr><td>New Hampshire       </td><td>NH</td><td>Northeast    </td><td> 1316470</td><td>   5</td><td>  3.798036</td></tr>\n",
       "\t<tr><td>New Jersey          </td><td>NJ</td><td>Northeast    </td><td> 8791894</td><td> 246</td><td> 27.980319</td></tr>\n",
       "\t<tr><td>New Mexico          </td><td>NM</td><td>West         </td><td> 2059179</td><td>  67</td><td> 32.537239</td></tr>\n",
       "\t<tr><td>New York            </td><td>NY</td><td>Northeast    </td><td>19378102</td><td> 517</td><td> 26.679599</td></tr>\n",
       "\t<tr><td>North Carolina      </td><td>NC</td><td>South        </td><td> 9535483</td><td> 286</td><td> 29.993237</td></tr>\n",
       "\t<tr><td>North Dakota        </td><td>ND</td><td>North Central</td><td>  672591</td><td>   4</td><td>  5.947151</td></tr>\n",
       "\t<tr><td>Ohio                </td><td>OH</td><td>North Central</td><td>11536504</td><td> 310</td><td> 26.871225</td></tr>\n",
       "\t<tr><td>Oklahoma            </td><td>OK</td><td>South        </td><td> 3751351</td><td> 111</td><td> 29.589340</td></tr>\n",
       "\t<tr><td>Oregon              </td><td>OR</td><td>West         </td><td> 3831074</td><td>  36</td><td>  9.396843</td></tr>\n",
       "\t<tr><td>Pennsylvania        </td><td>PA</td><td>Northeast    </td><td>12702379</td><td> 457</td><td> 35.977513</td></tr>\n",
       "\t<tr><td>Rhode Island        </td><td>RI</td><td>Northeast    </td><td> 1052567</td><td>  16</td><td> 15.200933</td></tr>\n",
       "\t<tr><td>South Carolina      </td><td>SC</td><td>South        </td><td> 4625364</td><td> 207</td><td> 44.753235</td></tr>\n",
       "\t<tr><td>South Dakota        </td><td>SD</td><td>North Central</td><td>  814180</td><td>   8</td><td>  9.825837</td></tr>\n",
       "\t<tr><td>Tennessee           </td><td>TN</td><td>South        </td><td> 6346105</td><td> 219</td><td> 34.509357</td></tr>\n",
       "\t<tr><td>Texas               </td><td>TX</td><td>South        </td><td>25145561</td><td> 805</td><td> 32.013603</td></tr>\n",
       "\t<tr><td>Utah                </td><td>UT</td><td>West         </td><td> 2763885</td><td>  22</td><td>  7.959810</td></tr>\n",
       "\t<tr><td>Vermont             </td><td>VT</td><td>Northeast    </td><td>  625741</td><td>   2</td><td>  3.196211</td></tr>\n",
       "\t<tr><td>Virginia            </td><td>VA</td><td>South        </td><td> 8001024</td><td> 250</td><td> 31.246001</td></tr>\n",
       "\t<tr><td>Washington          </td><td>WA</td><td>West         </td><td> 6724540</td><td>  93</td><td> 13.829942</td></tr>\n",
       "\t<tr><td>West Virginia       </td><td>WV</td><td>South        </td><td> 1852994</td><td>  27</td><td> 14.571013</td></tr>\n",
       "\t<tr><td>Wisconsin           </td><td>WI</td><td>North Central</td><td> 5686986</td><td>  97</td><td> 17.056487</td></tr>\n",
       "\t<tr><td>Wyoming             </td><td>WY</td><td>West         </td><td>  563626</td><td>   5</td><td>  8.871131</td></tr>\n",
       "</tbody>\n",
       "</table>\n"
      ],
      "text/latex": [
       "A data.frame: 51 × 6\n",
       "\\begin{tabular}{llllll}\n",
       " state & abb & region & population & total & rate\\\\\n",
       " <chr> & <chr> & <fct> & <dbl> & <dbl> & <dbl>\\\\\n",
       "\\hline\n",
       "\t Alabama              & AL & South         &  4779736 &  135 &  28.244238\\\\\n",
       "\t Alaska               & AK & West          &   710231 &   19 &  26.751860\\\\\n",
       "\t Arizona              & AZ & West          &  6392017 &  232 &  36.295273\\\\\n",
       "\t Arkansas             & AR & South         &  2915918 &   93 &  31.893901\\\\\n",
       "\t California           & CA & West          & 37253956 & 1257 &  33.741383\\\\\n",
       "\t Colorado             & CO & West          &  5029196 &   65 &  12.924531\\\\\n",
       "\t Connecticut          & CT & Northeast     &  3574097 &   97 &  27.139722\\\\\n",
       "\t Delaware             & DE & South         &   897934 &   38 &  42.319369\\\\\n",
       "\t District of Columbia & DC & South         &   601723 &   99 & 164.527532\\\\\n",
       "\t Florida              & FL & South         & 19687653 &  669 &  33.980688\\\\\n",
       "\t Georgia              & GA & South         &  9920000 &  376 &  37.903226\\\\\n",
       "\t Hawaii               & HI & West          &  1360301 &    7 &   5.145920\\\\\n",
       "\t Idaho                & ID & West          &  1567582 &   12 &   7.655102\\\\\n",
       "\t Illinois             & IL & North Central & 12830632 &  364 &  28.369608\\\\\n",
       "\t Indiana              & IN & North Central &  6483802 &  142 &  21.900730\\\\\n",
       "\t Iowa                 & IA & North Central &  3046355 &   21 &   6.893484\\\\\n",
       "\t Kansas               & KS & North Central &  2853118 &   63 &  22.081106\\\\\n",
       "\t Kentucky             & KY & South         &  4339367 &  116 &  26.732010\\\\\n",
       "\t Louisiana            & LA & South         &  4533372 &  351 &  77.425810\\\\\n",
       "\t Maine                & ME & Northeast     &  1328361 &   11 &   8.280881\\\\\n",
       "\t Maryland             & MD & South         &  5773552 &  293 &  50.748655\\\\\n",
       "\t Massachusetts        & MA & Northeast     &  6547629 &  118 &  18.021791\\\\\n",
       "\t Michigan             & MI & North Central &  9883640 &  413 &  41.786225\\\\\n",
       "\t Minnesota            & MN & North Central &  5303925 &   53 &   9.992600\\\\\n",
       "\t Mississippi          & MS & South         &  2967297 &  120 &  40.440846\\\\\n",
       "\t Missouri             & MO & North Central &  5988927 &  321 &  53.598917\\\\\n",
       "\t Montana              & MT & West          &   989415 &   12 &  12.128379\\\\\n",
       "\t Nebraska             & NE & North Central &  1826341 &   32 &  17.521372\\\\\n",
       "\t Nevada               & NV & West          &  2700551 &   84 &  31.104763\\\\\n",
       "\t New Hampshire        & NH & Northeast     &  1316470 &    5 &   3.798036\\\\\n",
       "\t New Jersey           & NJ & Northeast     &  8791894 &  246 &  27.980319\\\\\n",
       "\t New Mexico           & NM & West          &  2059179 &   67 &  32.537239\\\\\n",
       "\t New York             & NY & Northeast     & 19378102 &  517 &  26.679599\\\\\n",
       "\t North Carolina       & NC & South         &  9535483 &  286 &  29.993237\\\\\n",
       "\t North Dakota         & ND & North Central &   672591 &    4 &   5.947151\\\\\n",
       "\t Ohio                 & OH & North Central & 11536504 &  310 &  26.871225\\\\\n",
       "\t Oklahoma             & OK & South         &  3751351 &  111 &  29.589340\\\\\n",
       "\t Oregon               & OR & West          &  3831074 &   36 &   9.396843\\\\\n",
       "\t Pennsylvania         & PA & Northeast     & 12702379 &  457 &  35.977513\\\\\n",
       "\t Rhode Island         & RI & Northeast     &  1052567 &   16 &  15.200933\\\\\n",
       "\t South Carolina       & SC & South         &  4625364 &  207 &  44.753235\\\\\n",
       "\t South Dakota         & SD & North Central &   814180 &    8 &   9.825837\\\\\n",
       "\t Tennessee            & TN & South         &  6346105 &  219 &  34.509357\\\\\n",
       "\t Texas                & TX & South         & 25145561 &  805 &  32.013603\\\\\n",
       "\t Utah                 & UT & West          &  2763885 &   22 &   7.959810\\\\\n",
       "\t Vermont              & VT & Northeast     &   625741 &    2 &   3.196211\\\\\n",
       "\t Virginia             & VA & South         &  8001024 &  250 &  31.246001\\\\\n",
       "\t Washington           & WA & West          &  6724540 &   93 &  13.829942\\\\\n",
       "\t West Virginia        & WV & South         &  1852994 &   27 &  14.571013\\\\\n",
       "\t Wisconsin            & WI & North Central &  5686986 &   97 &  17.056487\\\\\n",
       "\t Wyoming              & WY & West          &   563626 &    5 &   8.871131\\\\\n",
       "\\end{tabular}\n"
      ],
      "text/markdown": [
       "\n",
       "A data.frame: 51 × 6\n",
       "\n",
       "| state &lt;chr&gt; | abb &lt;chr&gt; | region &lt;fct&gt; | population &lt;dbl&gt; | total &lt;dbl&gt; | rate &lt;dbl&gt; |\n",
       "|---|---|---|---|---|---|\n",
       "| Alabama              | AL | South         |  4779736 |  135 |  28.244238 |\n",
       "| Alaska               | AK | West          |   710231 |   19 |  26.751860 |\n",
       "| Arizona              | AZ | West          |  6392017 |  232 |  36.295273 |\n",
       "| Arkansas             | AR | South         |  2915918 |   93 |  31.893901 |\n",
       "| California           | CA | West          | 37253956 | 1257 |  33.741383 |\n",
       "| Colorado             | CO | West          |  5029196 |   65 |  12.924531 |\n",
       "| Connecticut          | CT | Northeast     |  3574097 |   97 |  27.139722 |\n",
       "| Delaware             | DE | South         |   897934 |   38 |  42.319369 |\n",
       "| District of Columbia | DC | South         |   601723 |   99 | 164.527532 |\n",
       "| Florida              | FL | South         | 19687653 |  669 |  33.980688 |\n",
       "| Georgia              | GA | South         |  9920000 |  376 |  37.903226 |\n",
       "| Hawaii               | HI | West          |  1360301 |    7 |   5.145920 |\n",
       "| Idaho                | ID | West          |  1567582 |   12 |   7.655102 |\n",
       "| Illinois             | IL | North Central | 12830632 |  364 |  28.369608 |\n",
       "| Indiana              | IN | North Central |  6483802 |  142 |  21.900730 |\n",
       "| Iowa                 | IA | North Central |  3046355 |   21 |   6.893484 |\n",
       "| Kansas               | KS | North Central |  2853118 |   63 |  22.081106 |\n",
       "| Kentucky             | KY | South         |  4339367 |  116 |  26.732010 |\n",
       "| Louisiana            | LA | South         |  4533372 |  351 |  77.425810 |\n",
       "| Maine                | ME | Northeast     |  1328361 |   11 |   8.280881 |\n",
       "| Maryland             | MD | South         |  5773552 |  293 |  50.748655 |\n",
       "| Massachusetts        | MA | Northeast     |  6547629 |  118 |  18.021791 |\n",
       "| Michigan             | MI | North Central |  9883640 |  413 |  41.786225 |\n",
       "| Minnesota            | MN | North Central |  5303925 |   53 |   9.992600 |\n",
       "| Mississippi          | MS | South         |  2967297 |  120 |  40.440846 |\n",
       "| Missouri             | MO | North Central |  5988927 |  321 |  53.598917 |\n",
       "| Montana              | MT | West          |   989415 |   12 |  12.128379 |\n",
       "| Nebraska             | NE | North Central |  1826341 |   32 |  17.521372 |\n",
       "| Nevada               | NV | West          |  2700551 |   84 |  31.104763 |\n",
       "| New Hampshire        | NH | Northeast     |  1316470 |    5 |   3.798036 |\n",
       "| New Jersey           | NJ | Northeast     |  8791894 |  246 |  27.980319 |\n",
       "| New Mexico           | NM | West          |  2059179 |   67 |  32.537239 |\n",
       "| New York             | NY | Northeast     | 19378102 |  517 |  26.679599 |\n",
       "| North Carolina       | NC | South         |  9535483 |  286 |  29.993237 |\n",
       "| North Dakota         | ND | North Central |   672591 |    4 |   5.947151 |\n",
       "| Ohio                 | OH | North Central | 11536504 |  310 |  26.871225 |\n",
       "| Oklahoma             | OK | South         |  3751351 |  111 |  29.589340 |\n",
       "| Oregon               | OR | West          |  3831074 |   36 |   9.396843 |\n",
       "| Pennsylvania         | PA | Northeast     | 12702379 |  457 |  35.977513 |\n",
       "| Rhode Island         | RI | Northeast     |  1052567 |   16 |  15.200933 |\n",
       "| South Carolina       | SC | South         |  4625364 |  207 |  44.753235 |\n",
       "| South Dakota         | SD | North Central |   814180 |    8 |   9.825837 |\n",
       "| Tennessee            | TN | South         |  6346105 |  219 |  34.509357 |\n",
       "| Texas                | TX | South         | 25145561 |  805 |  32.013603 |\n",
       "| Utah                 | UT | West          |  2763885 |   22 |   7.959810 |\n",
       "| Vermont              | VT | Northeast     |   625741 |    2 |   3.196211 |\n",
       "| Virginia             | VA | South         |  8001024 |  250 |  31.246001 |\n",
       "| Washington           | WA | West          |  6724540 |   93 |  13.829942 |\n",
       "| West Virginia        | WV | South         |  1852994 |   27 |  14.571013 |\n",
       "| Wisconsin            | WI | North Central |  5686986 |   97 |  17.056487 |\n",
       "| Wyoming              | WY | West          |   563626 |    5 |   8.871131 |\n",
       "\n"
      ],
      "text/plain": [
       "   state                abb region        population total rate      \n",
       "1  Alabama              AL  South          4779736    135   28.244238\n",
       "2  Alaska               AK  West            710231     19   26.751860\n",
       "3  Arizona              AZ  West           6392017    232   36.295273\n",
       "4  Arkansas             AR  South          2915918     93   31.893901\n",
       "5  California           CA  West          37253956   1257   33.741383\n",
       "6  Colorado             CO  West           5029196     65   12.924531\n",
       "7  Connecticut          CT  Northeast      3574097     97   27.139722\n",
       "8  Delaware             DE  South           897934     38   42.319369\n",
       "9  District of Columbia DC  South           601723     99  164.527532\n",
       "10 Florida              FL  South         19687653    669   33.980688\n",
       "11 Georgia              GA  South          9920000    376   37.903226\n",
       "12 Hawaii               HI  West           1360301      7    5.145920\n",
       "13 Idaho                ID  West           1567582     12    7.655102\n",
       "14 Illinois             IL  North Central 12830632    364   28.369608\n",
       "15 Indiana              IN  North Central  6483802    142   21.900730\n",
       "16 Iowa                 IA  North Central  3046355     21    6.893484\n",
       "17 Kansas               KS  North Central  2853118     63   22.081106\n",
       "18 Kentucky             KY  South          4339367    116   26.732010\n",
       "19 Louisiana            LA  South          4533372    351   77.425810\n",
       "20 Maine                ME  Northeast      1328361     11    8.280881\n",
       "21 Maryland             MD  South          5773552    293   50.748655\n",
       "22 Massachusetts        MA  Northeast      6547629    118   18.021791\n",
       "23 Michigan             MI  North Central  9883640    413   41.786225\n",
       "24 Minnesota            MN  North Central  5303925     53    9.992600\n",
       "25 Mississippi          MS  South          2967297    120   40.440846\n",
       "26 Missouri             MO  North Central  5988927    321   53.598917\n",
       "27 Montana              MT  West            989415     12   12.128379\n",
       "28 Nebraska             NE  North Central  1826341     32   17.521372\n",
       "29 Nevada               NV  West           2700551     84   31.104763\n",
       "30 New Hampshire        NH  Northeast      1316470      5    3.798036\n",
       "31 New Jersey           NJ  Northeast      8791894    246   27.980319\n",
       "32 New Mexico           NM  West           2059179     67   32.537239\n",
       "33 New York             NY  Northeast     19378102    517   26.679599\n",
       "34 North Carolina       NC  South          9535483    286   29.993237\n",
       "35 North Dakota         ND  North Central   672591      4    5.947151\n",
       "36 Ohio                 OH  North Central 11536504    310   26.871225\n",
       "37 Oklahoma             OK  South          3751351    111   29.589340\n",
       "38 Oregon               OR  West           3831074     36    9.396843\n",
       "39 Pennsylvania         PA  Northeast     12702379    457   35.977513\n",
       "40 Rhode Island         RI  Northeast      1052567     16   15.200933\n",
       "41 South Carolina       SC  South          4625364    207   44.753235\n",
       "42 South Dakota         SD  North Central   814180      8    9.825837\n",
       "43 Tennessee            TN  South          6346105    219   34.509357\n",
       "44 Texas                TX  South         25145561    805   32.013603\n",
       "45 Utah                 UT  West           2763885     22    7.959810\n",
       "46 Vermont              VT  Northeast       625741      2    3.196211\n",
       "47 Virginia             VA  South          8001024    250   31.246001\n",
       "48 Washington           WA  West           6724540     93   13.829942\n",
       "49 West Virginia        WV  South          1852994     27   14.571013\n",
       "50 Wisconsin            WI  North Central  5686986     97   17.056487\n",
       "51 Wyoming              WY  West            563626      5    8.871131"
      ]
     },
     "metadata": {},
     "output_type": "display_data"
    },
    {
     "data": {},
     "metadata": {},
     "output_type": "display_data"
    },
    {
     "data": {
      "image/png": "[encoded data removed]",
      "text/plain": [
       "plot without title"
      ]
     },
     "metadata": {},
     "output_type": "display_data",
     "source": "R display func"
    }
   ],
   "source": [
    "library(tidyverse)\n",
    "install.packages(\"dslabs\")\n",
    "library(dslabs)\n",
    "head(murders)\n",
    "murders %>% mutate(rate = total/population*10^6)\n",
    "murders %>% group_by(region) %>% ggplot(aes(region, total))+ geom_point() + theme_minimal()"
   ]
  },
  {
   "cell_type": "markdown",
   "metadata": {},
   "source": [
    "## Conclusion"
   ]
  },
  {
   "cell_type": "markdown",
   "metadata": {},
   "source": [
    "* We need to compute the murder rate for states per million\n",
    "* I created a simple scatter-plot "
   ]
  }
 ],
 "metadata": {
  "kernelspec": {
   "display_name": "R",
   "language": "R",
   "name": "conda-env-r-r"
  },
  "language_info": {
   "codemirror_mode": "r",
   "file_extension": ".r",
   "mimetype": "text/x-r-source",
   "name": "R",
   "pygments_lexer": "r",
   "version": "3.5.1"
  }
 },
 "nbformat": 4,
 "nbformat_minor": 4
}
